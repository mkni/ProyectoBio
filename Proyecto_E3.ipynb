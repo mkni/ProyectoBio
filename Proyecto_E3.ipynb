{
 "cells": [
  {
   "cell_type": "code",
   "execution_count": 1,
   "id": "9acf6057-8863-4f09-92b8-60d84e7daedb",
   "metadata": {},
   "outputs": [],
   "source": [
    "from random import choice \n",
    "from itertools import combinations"
   ]
  },
  {
   "cell_type": "code",
   "execution_count": 2,
   "id": "8d593b63-2172-413e-ba4a-72d78c370b65",
   "metadata": {},
   "outputs": [
    {
     "data": {
      "text/plain": [
       "(32, 78)"
      ]
     },
     "execution_count": 2,
     "metadata": {},
     "output_type": "execute_result"
    }
   ],
   "source": [
    "parejas = list(combinations(range(200),2))\n",
    "choice(parejas)"
   ]
  },
  {
   "cell_type": "code",
   "execution_count": 3,
   "id": "e8262536-a065-4611-b6bd-3301f296c7dc",
   "metadata": {},
   "outputs": [],
   "source": [
    "from Bio import SeqIO\n",
    "import subprocess\n",
    "from io import StringIO"
   ]
  },
  {
   "cell_type": "code",
   "execution_count": 4,
   "id": "aef4938a-e9da-4dfa-be5e-821db2c09a5e",
   "metadata": {},
   "outputs": [],
   "source": [
    "seqs = list(SeqIO.parse('bichoE3.fa','fasta'))"
   ]
  },
  {
   "cell_type": "code",
   "execution_count": 5,
   "id": "c774eb32-19dc-4435-a5ff-bbbaf1363ecf",
   "metadata": {},
   "outputs": [
    {
     "data": {
      "text/plain": [
       "200"
      ]
     },
     "execution_count": 5,
     "metadata": {},
     "output_type": "execute_result"
    }
   ],
   "source": [
    "len(seqs)"
   ]
  },
  {
   "cell_type": "code",
   "execution_count": 6,
   "id": "fa4d81d0-ee10-4479-8357-709d346ea1b1",
   "metadata": {},
   "outputs": [],
   "source": [
    "pareja = choice(parejas)\n",
    "seq1 = seqs[pareja[0]]\n",
    "seq2 = seqs[pareja[1]]\n"
   ]
  },
  {
   "cell_type": "code",
   "execution_count": 7,
   "id": "c07c12bb-e099-4833-a367-2a3926531e6f",
   "metadata": {},
   "outputs": [
    {
     "data": {
      "text/plain": [
       "['',\n",
       " 'CACCTCGAGTTGGAACTCCGAAGTGAACTGCTCAGCTTTGGGAATTACTTTAACCGCATGCAAGAAGAACGGCACGGTCGCTCGGTCCAAACCAATTGAAAGACCAGCATTGACCCGTGTGGACAGGAACTTCTCGACTTAGATGTCTTCTGACATAGTGCTACGAACCCTGTACGGTAGACTATTTGAGCTCAGCAACTTGGTAGTCCCCAGACAAACCTGACTGCCATCTGAAGTATTTTTCCGGTGCCAATCTCTAGAGCTACTAGCCGTCCCTAGGATACCCCTATCCGGCTTTTAGTGCCGCAATCTGCTAATCCGTGACCAGATTCCATAACCGGGAAGACGGTCCCATAAATCTTGGACAACGACATTAAGCTGACACTTAACCCTGTGACGCCACACTTCAACTCATCGACCCCGAACGCGAGTAGGCTGTGAACTTTGGGGCAACGTATCACGGCACGCGGCCTAAGTGACCCGCTTAACCAAGGGTCGAC',\n",
       " 'AGATCGATGTGGTAGAGTGAGCTGCGGAGATAACATATCCGAGTTGCGTTTATTACCTTAACTTCACACTACTGGGACGAATCGACCAACTCGCCACCCTAGTGAGCTCGCCATGATGGGTGGGCTCGCTATGCTTCTTAACGAACCAGTGGAAGTGGTGGCCATATGGTGGTTCAATGATAGAGTGACCTTTAGTGTCATTTGACCAGGCTTTTCGCTGCCCAGGTACGTTCAGCGCAAATCCCTTTACCTTTTATGCAGACCTCGCGTGTTGCCAACACACTGACCGAGCTTCTTATACTCTTGGTGCGAAGGCAGGCAAACCTATGAAGTGATAAACGTCTTCTGCTATTGCGCGGGGTTAGGAGGGCCCCATTGGAGAGCCTTAGCACGACTGGTCGGGTATGATCCGAACGACCGAAATTCCCTTGAACGAGTCAGTGATACGCGCGATATACTGCTATTTTCCCTACGGCACTGCCTAGAATGTTTTTGATATG',\n",
       " 'GGCAGTCCCATGCCCTCGGATGAAAGCTCCCGAAGATGCAGTGAACGTGTTAGTTTTCATTATACCATTACAGGAATCATGGTCCGGCCGCATAGTCCTTGGCGCACCCGAACCAATCAGGCTCGCAATGCGAGCCGAGGGAGGTGGCGCCATTTGAACTTGCCTTGTTAAACCATAGTGAAAAGCCCTTAGACTAGTCGTTAATTATTAGCATCTCGGGGGACTAAGCATTCTGTACGACCGCGCGGTTATATTCTGCTCAGAGCAGGCGACCTGTGCCCCCGTTCTGCAAGATAACGCAAGTCGGCGTCGATTGTTCTTGGGGCCGGCAATTAATCTACTTGATGTGATGACGGCGAAGACTGTGGAACACCTTCGATTGCTTCTAAATGATGAACGTTCTTATATAGTTTGTGGTGTACCACGGTAAACCACCGATATCCAATACATAGCTTTAAGCCGCCTAGCAGTCGCATTTCGCGGAATAAGAAATCCGGGAT',\n",
       " '']"
      ]
     },
     "execution_count": 7,
     "metadata": {},
     "output_type": "execute_result"
    }
   ],
   "source": [
    "conast1 = str(seq1.seq)\n",
    "list1 = conast1.split('***')\n",
    "list1"
   ]
  },
  {
   "cell_type": "code",
   "execution_count": 8,
   "id": "ad842321-8d0a-4b22-a3bf-507e97a387e7",
   "metadata": {},
   "outputs": [],
   "source": [
    "conast2 = str(seq2.seq)\n",
    "list2 = conast2.split('***')"
   ]
  },
  {
   "cell_type": "code",
   "execution_count": 9,
   "id": "7cf2fd69-7245-4e62-b4cc-bef88e2554e1",
   "metadata": {},
   "outputs": [
    {
     "data": {
      "text/plain": [
       "1"
      ]
     },
     "execution_count": 9,
     "metadata": {},
     "output_type": "execute_result"
    }
   ],
   "source": [
    "indice = choice(range(3))\n",
    "indice"
   ]
  },
  {
   "cell_type": "code",
   "execution_count": 10,
   "id": "5445c960-94b5-4de5-968f-25025e0df3e3",
   "metadata": {},
   "outputs": [],
   "source": [
    "\n",
    "from skbio import Sequence\n",
    "from skbio.sequence.distance import hamming \n",
    "#hamming (Sequence(str(A)),Sequence(str(B)))"
   ]
  },
  {
   "cell_type": "code",
   "execution_count": 11,
   "id": "ea1cd748-2301-4327-8ae2-65a7d80f6ab2",
   "metadata": {},
   "outputs": [
    {
     "data": {
      "text/plain": [
       "(500, 500)"
      ]
     },
     "execution_count": 11,
     "metadata": {},
     "output_type": "execute_result"
    }
   ],
   "source": [
    "len(list1[indice + 1]), len(list2[indice + 1])"
   ]
  },
  {
   "cell_type": "code",
   "execution_count": 12,
   "id": "ce6929b1-c10c-4407-8d44-85f7670102d6",
   "metadata": {},
   "outputs": [
    {
     "data": {
      "text/plain": [
       "'AGATCGATGTGGTAGAGTGAGCTGCGGAGATAACATATCCGAGTTGCGTTTATTACCTTAACTTCACACTACTGGGACGAATCGACCAACTCGCCACCCTAGTGAGCTCGCCATGATGGGTGGGCTCGCTATGCTTCTTAACGAACCAGTGGAAGTGGTGGCCATATGGTGGTTCAATGATAGAGTGACCTTTAGTGTCATTTGACCAGGCTTTTCGCTGCCCAGGTACGTTCAGCGCAAATCCCTTTACCTTTTATGCAGACCTCGCGTGTTGCCAACACACTGACCGAGCTTCTTATACTCTTGGTGCGAAGGCAGGCAAACCTATGAAGTGATAAACGTCTTCTGCTATTGCGCGGGGTTAGGAGGGCCCCATTGGAGAGCCTTAGCACGACTGGTCGGGTATGATCCGAACGACCGAAATTCCCTTGAACGAGTCAGTGATACGCGCGATATACTGCTATTTTCCCTACGGCACTGCCTAGAATGTTTTTGATATG'"
      ]
     },
     "execution_count": 12,
     "metadata": {},
     "output_type": "execute_result"
    }
   ],
   "source": [
    "list1[2]"
   ]
  },
  {
   "cell_type": "code",
   "execution_count": 13,
   "id": "bcee09f7-7ca6-45e7-a183-f4495da24f53",
   "metadata": {},
   "outputs": [
    {
     "data": {
      "text/plain": [
       "0.002"
      ]
     },
     "execution_count": 13,
     "metadata": {},
     "output_type": "execute_result"
    }
   ],
   "source": [
    "hamming(Sequence(list1[indice + 1]),Sequence(list2[indice + 1]))"
   ]
  },
  {
   "cell_type": "code",
   "execution_count": 14,
   "id": "fa9e7896-dce1-4143-9b36-affc1f6a3748",
   "metadata": {},
   "outputs": [],
   "source": [
    "def distancia_una(): \n",
    "    parejas = list(combinations(range(100),2))\n",
    "    pareja = choice(parejas)\n",
    "    seq1 = seqs[pareja[0]]\n",
    "    seq2 = seqs[pareja[1]]\n",
    "    conast1 = str(seq1.seq)\n",
    "    list1 = conast1.split('***')\n",
    "    conast2 = str(seq2.seq)\n",
    "    list2 = conast2.split('***')\n",
    "    indice = choice(range(3))\n",
    "    return hamming(Sequence(list1[indice + 1]),Sequence(list2[indice + 1]))"
   ]
  },
  {
   "cell_type": "code",
   "execution_count": 15,
   "id": "b1172520-f5e7-4ecc-a1ee-900612d89832",
   "metadata": {},
   "outputs": [
    {
     "data": {
      "text/plain": [
       "0.012"
      ]
     },
     "execution_count": 15,
     "metadata": {},
     "output_type": "execute_result"
    }
   ],
   "source": [
    "distancia_una()"
   ]
  },
  {
   "cell_type": "code",
   "execution_count": 16,
   "id": "c6c519a5-e086-4345-88a5-6ad1fc953652",
   "metadata": {},
   "outputs": [],
   "source": [
    "mil_veces = [distancia_una() for _ in range(1000)]"
   ]
  },
  {
   "cell_type": "code",
   "execution_count": 17,
   "id": "0bbfc481-3824-4827-9c5c-96472888a1cf",
   "metadata": {},
   "outputs": [
    {
     "data": {
      "text/plain": [
       "Text(0.5, 1.0, 'HistogramaE3')"
      ]
     },
     "execution_count": 17,
     "metadata": {},
     "output_type": "execute_result"
    },
    {
     "data": {
      "image/png": "[encoded data removed]",
      "text/plain": [
       "<Figure size 640x480 with 1 Axes>"
      ]
     },
     "metadata": {},
     "output_type": "display_data"
    }
   ],
   "source": [
    "import numpy as np\n",
    "import matplotlib.pyplot as plt\n",
    "\n",
    "counts, bins = np.histogram(mil_veces, bins=40)\n",
    "plt.stairs(counts, bins)\n",
    "plt.title(\"HistogramaE3\")"
   ]
  },
  {
   "cell_type": "code",
   "execution_count": 18,
   "id": "7ab98600-29ee-4fda-8f7d-6b1e8d0d5023",
   "metadata": {},
   "outputs": [],
   "source": [
    "with open(\"ResultsE3.txt\",\"a+\") as file_object:\n",
    "    file_object.seek(0)\n",
    "    data=file_object.read(100)\n",
    "    if len(data)>0:\n",
    "        file_object.write(\"\\n\")\n",
    "    file_object.write(str(mil_veces))\n"
   ]
  },
  {
   "cell_type": "code",
   "execution_count": 19,
   "id": "8015035f-9e28-463f-9da1-d59bd73843ac",
   "metadata": {},
   "outputs": [
    {
     "data": {
      "text/plain": [
       "Text(0.5, 1.0, 'Histograma')"
      ]
     },
     "execution_count": 19,
     "metadata": {},
     "output_type": "execute_result"
    },
    {
     "data": {
      "image/png": "[encoded data removed]",
      "text/plain": [
       "<Figure size 640x480 with 1 Axes>"
      ]
     },
     "metadata": {},
     "output_type": "display_data"
    }
   ],
   "source": [
    "plt.hist(mil_veces, bins=40)\n",
    "plt.title(\"Histograma\")"
   ]
  },
  {
   "cell_type": "code",
   "execution_count": 20,
   "id": "9cac5e4b-0c4c-4cb1-8447-bdba3a668561",
   "metadata": {},
   "outputs": [
    {
     "data": {
      "text/plain": [
       "<Figure size 640x480 with 0 Axes>"
      ]
     },
     "metadata": {},
     "output_type": "display_data"
    }
   ],
   "source": [
    "plt.savefig('histo.png')"
   ]
  },
  {
   "cell_type": "code",
   "execution_count": null,
   "id": "6c6c170b-0918-4a70-befe-3904c4f4f63a",
   "metadata": {},
   "outputs": [],
   "source": []
  },
  {
   "cell_type": "code",
   "execution_count": null,
   "id": "0a2e5f8d-fd2b-4cd4-b935-baaf8325b6e6",
   "metadata": {},
   "outputs": [],
   "source": []
  }
 ],
 "metadata": {
  "kernelspec": {
   "display_name": "Python 3 (ipykernel)",
   "language": "python",
   "name": "python3"
  },
  "language_info": {
   "codemirror_mode": {
    "name": "ipython",
    "version": 3
   },
   "file_extension": ".py",
   "mimetype": "text/x-python",
   "name": "python",
   "nbconvert_exporter": "python",
   "pygments_lexer": "ipython3",
   "version": "3.7.12"
  }
 },
 "nbformat": 4,
 "nbformat_minor": 5
}
