{
 "cells": [
  {
   "cell_type": "code",
   "execution_count": 1,
   "id": "forbidden-parent",
   "metadata": {},
   "outputs": [
    {
     "data": {
      "text/plain": [
       "8-element Array{Int64,1}:\n",
       " 2\n",
       " 3\n",
       " 4\n",
       " 5\n",
       " 6\n",
       " 7\n",
       " 8\n",
       " 9"
      ]
     },
     "execution_count": 1,
     "metadata": {},
     "output_type": "execute_result"
    }
   ],
   "source": [
    "using DelimitedFiles # For writing the population out\n",
    "using Distributions  # For SkewNormal, etc\n",
    "using StatsBase\t     # For the weighted sampling\n",
    "using Plots\n",
    "using StatsPlots, KernelDensity\n",
    "using Distributed\n",
    "using PlotThemes\n",
    "theme(:dark)\n",
    "addprocs()"
   ]
  },
  {
   "cell_type": "code",
   "execution_count": 2,
   "id": "failing-sunset",
   "metadata": {},
   "outputs": [],
   "source": [
    "@everywhere using DelimitedFiles # For writing the population out\n",
    "@everywhere using Distributions  # For SkewNormal, etc\n",
    "@everywhere using StatsBase\t     # For the weighted sampling\n",
    "@everywhere using Plots\n",
    "@everywhere using StatsPlots, KernelDensity\n",
    "@everywhere using Distributed\n",
    "@everywhere using SharedArrays\n",
    "@everywhere using DistributedArrays"
   ]
  },
  {
   "cell_type": "code",
   "execution_count": 3,
   "id": "horizontal-blogger",
   "metadata": {},
   "outputs": [
    {
     "data": {
      "text/plain": [
       "Task (done) @0x00002ba1bb92b5b0"
      ]
     },
     "execution_count": 3,
     "metadata": {},
     "output_type": "execute_result"
    }
   ],
   "source": [
    "@sync @distributed for kk in 1:nworkers()\n",
    "numruns = 100;\n",
    "numdims = 2;\n",
    "numind = 2;\n",
    "ac = 0.03;\n",
    "maxtt = 1000000;   # maximum number of generations to run\n",
    "var = 0.01;   # Variance of multivariate normal diffusion kernel\n",
    "# global ac = 0.3;   # Euclidian distance defining the boundaries of \"arbitrarily close\"\n",
    "for ll in 1:5\n",
    "ns = (ll/10)\n",
    "x = zeros(numdims,numind);\n",
    "x0 = zeros(numdims,numind);\n",
    "m = zeros(numdims);\n",
    "cv = zeros(numdims,numdims);\n",
    "for i in 1:numdims\n",
    "    m[i] = 0;\n",
    "end\n",
    "for i in 1:numdims\n",
    "    for j in 1:numdims\n",
    "        if i == j\n",
    "            cv[i,j] = var;\n",
    "        end\n",
    "    end\n",
    "end\n",
    "ip = 0.7;\n",
    "for i in 1:numdims   # note: this only works with two starting individuals!\n",
    "    x0[i,1] = ip;\n",
    "    x0[i,2] = -ip;\n",
    "end\n",
    "    \n",
    "t1=[];\n",
    "for _ in 1:numruns\n",
    "tt = 0;\n",
    "x = deepcopy(x0);\n",
    "global mpd = 0;\n",
    "while (mpd < 1) && (tt < maxtt)\n",
    "    tt += 1;\n",
    "    for i in 1:numind\n",
    "        x[:,i] += rand(MvNormal(m,cv));\n",
    "    end\n",
    "    mpd = 0;   #minimum pairwise distance\n",
    "    for i in 1:numind-1\n",
    "        for j in i+1:numind\n",
    "            d1 = sum([ (x[k,i] - x[k,j])^2 for k in 1:numdims ]);\n",
    "            pr1 = (π*ns^2)*exp(-d1/(2*ns^2));\n",
    "            if rand() < pr1\n",
    "                mpd = 1;\n",
    "            end\n",
    "        end\n",
    "    end\n",
    "end\n",
    "if (tt > 1) && (tt < maxtt)\n",
    "    push!(t1,tt);\n",
    "end\n",
    "\n",
    "end\n",
    "# histogram(t1)\n",
    "    \n",
    "    fn0 = \"out4/2Dn3-\" * string(kk) *\"-\"* string(ll) * \".csv\";\n",
    "    writedlm( fn0,  t1, ',');\n",
    "    \n",
    "end\n",
    "\n",
    "end\n",
    "\n"
   ]
  },
  {
   "cell_type": "code",
   "execution_count": null,
   "id": "separated-network",
   "metadata": {},
   "outputs": [],
   "source": [
    "π"
   ]
  },
  {
   "cell_type": "code",
   "execution_count": 9,
   "id": "significant-humanity",
   "metadata": {},
   "outputs": [],
   "source": [
    "writedlm( \"t1e.csv\",  t1, ',')"
   ]
  },
  {
   "cell_type": "code",
   "execution_count": null,
   "id": "forty-replica",
   "metadata": {},
   "outputs": [],
   "source": []
  }
 ],
 "metadata": {
  "kernelspec": {
   "display_name": "Julia 1.5.2",
   "language": "julia",
   "name": "julia-1.5"
  },
  "language_info": {
   "file_extension": ".jl",
   "mimetype": "application/julia",
   "name": "julia",
   "version": "1.5.2"
  }
 },
 "nbformat": 4,
 "nbformat_minor": 5
}
